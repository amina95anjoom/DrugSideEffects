{
 "cells": [
  {
   "cell_type": "code",
   "execution_count": 1,
   "metadata": {},
   "outputs": [],
   "source": [
    "import pandas as pd\n",
    "import numpy as np                                                                             \n",
    "import matplotlib.pyplot as plt\n",
    "import seaborn as sns"
   ]
  },
  {
   "cell_type": "markdown",
   "metadata": {},
   "source": [
    "### Reading the dataset"
   ]
  },
  {
   "cell_type": "code",
   "execution_count": 2,
   "metadata": {},
   "outputs": [],
   "source": [
    "data=pd.read_csv('webmd.csv')"
   ]
  },
  {
   "cell_type": "code",
   "execution_count": 3,
   "metadata": {},
   "outputs": [
    {
     "data": {
      "text/html": [
       "<div>\n",
       "<style scoped>\n",
       "    .dataframe tbody tr th:only-of-type {\n",
       "        vertical-align: middle;\n",
       "    }\n",
       "\n",
       "    .dataframe tbody tr th {\n",
       "        vertical-align: top;\n",
       "    }\n",
       "\n",
       "    .dataframe thead th {\n",
       "        text-align: right;\n",
       "    }\n",
       "</style>\n",
       "<table border=\"1\" class=\"dataframe\">\n",
       "  <thead>\n",
       "    <tr style=\"text-align: right;\">\n",
       "      <th></th>\n",
       "      <th>Age</th>\n",
       "      <th>Condition</th>\n",
       "      <th>Date</th>\n",
       "      <th>Drug</th>\n",
       "      <th>DrugId</th>\n",
       "      <th>EaseofUse</th>\n",
       "      <th>Effectiveness</th>\n",
       "      <th>Reviews</th>\n",
       "      <th>Satisfaction</th>\n",
       "      <th>Sex</th>\n",
       "      <th>Sides</th>\n",
       "      <th>UsefulCount</th>\n",
       "    </tr>\n",
       "  </thead>\n",
       "  <tbody>\n",
       "    <tr>\n",
       "      <th>0</th>\n",
       "      <td>75 or over</td>\n",
       "      <td>Stuffy Nose</td>\n",
       "      <td>9/21/2014</td>\n",
       "      <td>25dph-7.5peh</td>\n",
       "      <td>146724</td>\n",
       "      <td>5</td>\n",
       "      <td>5</td>\n",
       "      <td>I'm a retired physician and of all the meds I ...</td>\n",
       "      <td>5</td>\n",
       "      <td>Male</td>\n",
       "      <td>Drowsiness,  dizziness ,  dry mouth /nose/thro...</td>\n",
       "      <td>0</td>\n",
       "    </tr>\n",
       "    <tr>\n",
       "      <th>1</th>\n",
       "      <td>25-34</td>\n",
       "      <td>Cold Symptoms</td>\n",
       "      <td>1/13/2011</td>\n",
       "      <td>25dph-7.5peh</td>\n",
       "      <td>146724</td>\n",
       "      <td>5</td>\n",
       "      <td>5</td>\n",
       "      <td>cleared me right up even with my throat hurtin...</td>\n",
       "      <td>5</td>\n",
       "      <td>Female</td>\n",
       "      <td>Drowsiness,  dizziness ,  dry mouth /nose/thro...</td>\n",
       "      <td>1</td>\n",
       "    </tr>\n",
       "    <tr>\n",
       "      <th>2</th>\n",
       "      <td>65-74</td>\n",
       "      <td>Other</td>\n",
       "      <td>7/16/2012</td>\n",
       "      <td>warfarin (bulk) 100 % powder</td>\n",
       "      <td>144731</td>\n",
       "      <td>2</td>\n",
       "      <td>3</td>\n",
       "      <td>why did my PTINR go from a normal of 2.5 to ov...</td>\n",
       "      <td>3</td>\n",
       "      <td>Female</td>\n",
       "      <td></td>\n",
       "      <td>0</td>\n",
       "    </tr>\n",
       "    <tr>\n",
       "      <th>3</th>\n",
       "      <td>75 or over</td>\n",
       "      <td>Other</td>\n",
       "      <td>9/23/2010</td>\n",
       "      <td>warfarin (bulk) 100 % powder</td>\n",
       "      <td>144731</td>\n",
       "      <td>2</td>\n",
       "      <td>2</td>\n",
       "      <td>FALLING AND DON'T REALISE IT</td>\n",
       "      <td>1</td>\n",
       "      <td>Female</td>\n",
       "      <td></td>\n",
       "      <td>0</td>\n",
       "    </tr>\n",
       "    <tr>\n",
       "      <th>4</th>\n",
       "      <td>35-44</td>\n",
       "      <td>Other</td>\n",
       "      <td>1/6/2009</td>\n",
       "      <td>warfarin (bulk) 100 % powder</td>\n",
       "      <td>144731</td>\n",
       "      <td>1</td>\n",
       "      <td>1</td>\n",
       "      <td>My grandfather was prescribed this medication ...</td>\n",
       "      <td>1</td>\n",
       "      <td>Male</td>\n",
       "      <td></td>\n",
       "      <td>1</td>\n",
       "    </tr>\n",
       "  </tbody>\n",
       "</table>\n",
       "</div>"
      ],
      "text/plain": [
       "          Age      Condition       Date                          Drug  DrugId  \\\n",
       "0  75 or over    Stuffy Nose  9/21/2014                  25dph-7.5peh  146724   \n",
       "1       25-34  Cold Symptoms  1/13/2011                  25dph-7.5peh  146724   \n",
       "2       65-74          Other  7/16/2012  warfarin (bulk) 100 % powder  144731   \n",
       "3  75 or over          Other  9/23/2010  warfarin (bulk) 100 % powder  144731   \n",
       "4       35-44          Other   1/6/2009  warfarin (bulk) 100 % powder  144731   \n",
       "\n",
       "   EaseofUse  Effectiveness  \\\n",
       "0          5              5   \n",
       "1          5              5   \n",
       "2          2              3   \n",
       "3          2              2   \n",
       "4          1              1   \n",
       "\n",
       "                                             Reviews  Satisfaction     Sex  \\\n",
       "0  I'm a retired physician and of all the meds I ...             5    Male   \n",
       "1  cleared me right up even with my throat hurtin...             5  Female   \n",
       "2  why did my PTINR go from a normal of 2.5 to ov...             3  Female   \n",
       "3                       FALLING AND DON'T REALISE IT             1  Female   \n",
       "4  My grandfather was prescribed this medication ...             1    Male   \n",
       "\n",
       "                                               Sides  UsefulCount  \n",
       "0  Drowsiness,  dizziness ,  dry mouth /nose/thro...            0  \n",
       "1  Drowsiness,  dizziness ,  dry mouth /nose/thro...            1  \n",
       "2                                                               0  \n",
       "3                                                               0  \n",
       "4                                                               1  "
      ]
     },
     "execution_count": 3,
     "metadata": {},
     "output_type": "execute_result"
    }
   ],
   "source": [
    "data.head()"
   ]
  },
  {
   "cell_type": "markdown",
   "metadata": {},
   "source": [
    "### Displaying basic details of the dataset"
   ]
  },
  {
   "cell_type": "code",
   "execution_count": 4,
   "metadata": {},
   "outputs": [
    {
     "data": {
      "text/plain": [
       "(362806, 12)"
      ]
     },
     "execution_count": 4,
     "metadata": {},
     "output_type": "execute_result"
    }
   ],
   "source": [
    "data.shape"
   ]
  },
  {
   "cell_type": "code",
   "execution_count": 5,
   "metadata": {},
   "outputs": [],
   "source": [
    "df=pd.DataFrame(data)"
   ]
  },
  {
   "cell_type": "code",
   "execution_count": 6,
   "metadata": {
    "scrolled": true
   },
   "outputs": [
    {
     "name": "stdout",
     "output_type": "stream",
     "text": [
      "<class 'pandas.core.frame.DataFrame'>\n",
      "RangeIndex: 362806 entries, 0 to 362805\n",
      "Data columns (total 12 columns):\n",
      " #   Column         Non-Null Count   Dtype \n",
      "---  ------         --------------   ----- \n",
      " 0   Age            362806 non-null  object\n",
      " 1   Condition      362806 non-null  object\n",
      " 2   Date           362806 non-null  object\n",
      " 3   Drug           362806 non-null  object\n",
      " 4   DrugId         362806 non-null  int64 \n",
      " 5   EaseofUse      362806 non-null  int64 \n",
      " 6   Effectiveness  362806 non-null  int64 \n",
      " 7   Reviews        362769 non-null  object\n",
      " 8   Satisfaction   362806 non-null  int64 \n",
      " 9   Sex            362806 non-null  object\n",
      " 10  Sides          362806 non-null  object\n",
      " 11  UsefulCount    362806 non-null  int64 \n",
      "dtypes: int64(5), object(7)\n",
      "memory usage: 23.5+ MB\n"
     ]
    }
   ],
   "source": [
    "data.info()"
   ]
  },
  {
   "cell_type": "code",
   "execution_count": 7,
   "metadata": {},
   "outputs": [
    {
     "data": {
      "text/plain": [
       "Age              object\n",
       "Condition        object\n",
       "Date             object\n",
       "Drug             object\n",
       "DrugId            int64\n",
       "EaseofUse         int64\n",
       "Effectiveness     int64\n",
       "Reviews          object\n",
       "Satisfaction      int64\n",
       "Sex              object\n",
       "Sides            object\n",
       "UsefulCount       int64\n",
       "dtype: object"
      ]
     },
     "execution_count": 7,
     "metadata": {},
     "output_type": "execute_result"
    }
   ],
   "source": [
    "df.dtypes"
   ]
  },
  {
   "cell_type": "code",
   "execution_count": 8,
   "metadata": {},
   "outputs": [
    {
     "data": {
      "text/html": [
       "<div>\n",
       "<style scoped>\n",
       "    .dataframe tbody tr th:only-of-type {\n",
       "        vertical-align: middle;\n",
       "    }\n",
       "\n",
       "    .dataframe tbody tr th {\n",
       "        vertical-align: top;\n",
       "    }\n",
       "\n",
       "    .dataframe thead th {\n",
       "        text-align: right;\n",
       "    }\n",
       "</style>\n",
       "<table border=\"1\" class=\"dataframe\">\n",
       "  <thead>\n",
       "    <tr style=\"text-align: right;\">\n",
       "      <th></th>\n",
       "      <th>DrugId</th>\n",
       "      <th>EaseofUse</th>\n",
       "      <th>Effectiveness</th>\n",
       "      <th>Satisfaction</th>\n",
       "      <th>UsefulCount</th>\n",
       "    </tr>\n",
       "  </thead>\n",
       "  <tbody>\n",
       "    <tr>\n",
       "      <th>count</th>\n",
       "      <td>362806.000000</td>\n",
       "      <td>362806.000000</td>\n",
       "      <td>362806.000000</td>\n",
       "      <td>362806.000000</td>\n",
       "      <td>362806.000000</td>\n",
       "    </tr>\n",
       "    <tr>\n",
       "      <th>mean</th>\n",
       "      <td>36879.370774</td>\n",
       "      <td>4.019829</td>\n",
       "      <td>3.532061</td>\n",
       "      <td>3.135408</td>\n",
       "      <td>6.744916</td>\n",
       "    </tr>\n",
       "    <tr>\n",
       "      <th>std</th>\n",
       "      <td>52624.412971</td>\n",
       "      <td>1.317711</td>\n",
       "      <td>1.455961</td>\n",
       "      <td>1.611106</td>\n",
       "      <td>9.324240</td>\n",
       "    </tr>\n",
       "    <tr>\n",
       "      <th>min</th>\n",
       "      <td>1.000000</td>\n",
       "      <td>1.000000</td>\n",
       "      <td>1.000000</td>\n",
       "      <td>1.000000</td>\n",
       "      <td>0.000000</td>\n",
       "    </tr>\n",
       "    <tr>\n",
       "      <th>25%</th>\n",
       "      <td>4896.000000</td>\n",
       "      <td>3.000000</td>\n",
       "      <td>3.000000</td>\n",
       "      <td>1.000000</td>\n",
       "      <td>1.000000</td>\n",
       "    </tr>\n",
       "    <tr>\n",
       "      <th>50%</th>\n",
       "      <td>9548.000000</td>\n",
       "      <td>5.000000</td>\n",
       "      <td>4.000000</td>\n",
       "      <td>3.000000</td>\n",
       "      <td>4.000000</td>\n",
       "    </tr>\n",
       "    <tr>\n",
       "      <th>75%</th>\n",
       "      <td>63522.000000</td>\n",
       "      <td>5.000000</td>\n",
       "      <td>5.000000</td>\n",
       "      <td>5.000000</td>\n",
       "      <td>9.000000</td>\n",
       "    </tr>\n",
       "    <tr>\n",
       "      <th>max</th>\n",
       "      <td>178546.000000</td>\n",
       "      <td>10.000000</td>\n",
       "      <td>10.000000</td>\n",
       "      <td>10.000000</td>\n",
       "      <td>255.000000</td>\n",
       "    </tr>\n",
       "  </tbody>\n",
       "</table>\n",
       "</div>"
      ],
      "text/plain": [
       "              DrugId      EaseofUse  Effectiveness   Satisfaction  \\\n",
       "count  362806.000000  362806.000000  362806.000000  362806.000000   \n",
       "mean    36879.370774       4.019829       3.532061       3.135408   \n",
       "std     52624.412971       1.317711       1.455961       1.611106   \n",
       "min         1.000000       1.000000       1.000000       1.000000   \n",
       "25%      4896.000000       3.000000       3.000000       1.000000   \n",
       "50%      9548.000000       5.000000       4.000000       3.000000   \n",
       "75%     63522.000000       5.000000       5.000000       5.000000   \n",
       "max    178546.000000      10.000000      10.000000      10.000000   \n",
       "\n",
       "         UsefulCount  \n",
       "count  362806.000000  \n",
       "mean        6.744916  \n",
       "std         9.324240  \n",
       "min         0.000000  \n",
       "25%         1.000000  \n",
       "50%         4.000000  \n",
       "75%         9.000000  \n",
       "max       255.000000  "
      ]
     },
     "execution_count": 8,
     "metadata": {},
     "output_type": "execute_result"
    }
   ],
   "source": [
    "data.describe()"
   ]
  },
  {
   "cell_type": "code",
   "execution_count": 9,
   "metadata": {},
   "outputs": [
    {
     "data": {
      "text/plain": [
       "Index(['Age', 'Condition', 'Date', 'Drug', 'DrugId', 'EaseofUse',\n",
       "       'Effectiveness', 'Reviews', 'Satisfaction', 'Sex', 'Sides',\n",
       "       'UsefulCount'],\n",
       "      dtype='object')"
      ]
     },
     "execution_count": 9,
     "metadata": {},
     "output_type": "execute_result"
    }
   ],
   "source": [
    "data.columns"
   ]
  },
  {
   "cell_type": "code",
   "execution_count": null,
   "metadata": {},
   "outputs": [],
   "source": []
  },
  {
   "cell_type": "markdown",
   "metadata": {},
   "source": [
    "## pre processing"
   ]
  },
  {
   "cell_type": "markdown",
   "metadata": {},
   "source": [
    "### checking for missing values"
   ]
  },
  {
   "cell_type": "code",
   "execution_count": 10,
   "metadata": {},
   "outputs": [],
   "source": [
    "df.replace(' ',np.nan,inplace =True)"
   ]
  },
  {
   "cell_type": "code",
   "execution_count": 11,
   "metadata": {},
   "outputs": [
    {
     "data": {
      "text/plain": [
       "Age              12202\n",
       "Condition           43\n",
       "Date                 0\n",
       "Drug                 0\n",
       "DrugId               0\n",
       "EaseofUse            0\n",
       "Effectiveness        0\n",
       "Reviews          41861\n",
       "Satisfaction         0\n",
       "Sex              26537\n",
       "Sides            17460\n",
       "UsefulCount          0\n",
       "dtype: int64"
      ]
     },
     "execution_count": 11,
     "metadata": {},
     "output_type": "execute_result"
    }
   ],
   "source": [
    "df.isna().sum()"
   ]
  },
  {
   "cell_type": "code",
   "execution_count": 12,
   "metadata": {},
   "outputs": [],
   "source": [
    "#handling missing values"
   ]
  },
  {
   "cell_type": "code",
   "execution_count": 13,
   "metadata": {},
   "outputs": [],
   "source": [
    "df.dropna(inplace=True,axis=0)"
   ]
  },
  {
   "cell_type": "code",
   "execution_count": 14,
   "metadata": {},
   "outputs": [
    {
     "data": {
      "text/plain": [
       "Age              0\n",
       "Condition        0\n",
       "Date             0\n",
       "Drug             0\n",
       "DrugId           0\n",
       "EaseofUse        0\n",
       "Effectiveness    0\n",
       "Reviews          0\n",
       "Satisfaction     0\n",
       "Sex              0\n",
       "Sides            0\n",
       "UsefulCount      0\n",
       "dtype: int64"
      ]
     },
     "execution_count": 14,
     "metadata": {},
     "output_type": "execute_result"
    }
   ],
   "source": [
    "df.isna().sum()"
   ]
  },
  {
   "cell_type": "markdown",
   "metadata": {},
   "source": [
    "# Data visualisations"
   ]
  },
  {
   "cell_type": "code",
   "execution_count": 15,
   "metadata": {},
   "outputs": [
    {
     "data": {
      "image/png": "[encoded data removed]",
      "text/plain": [
       "<Figure size 1440x504 with 1 Axes>"
      ]
     },
     "metadata": {
      "needs_background": "light"
     },
     "output_type": "display_data"
    }
   ],
   "source": [
    "plt.figure(figsize = (20,7))\n",
    "\n",
    "data['Drug'].value_counts().head(20).plot(kind='bar')\n",
    "plt.xticks(rotation=45)\n",
    "\n",
    "plt.show()"
   ]
  },
  {
   "cell_type": "code",
   "execution_count": 16,
   "metadata": {},
   "outputs": [
    {
     "data": {
      "image/png": "[encoded data removed]",
      "text/plain": [
       "<Figure size 432x288 with 1 Axes>"
      ]
     },
     "metadata": {
      "needs_background": "light"
     },
     "output_type": "display_data"
    }
   ],
   "source": [
    "sns.countplot(data=data,x='Sides',hue ='Sex')\n",
    "plt.title(\"count of Side effects\")\n",
    "plt.show()"
   ]
  },
  {
   "cell_type": "code",
   "execution_count": 17,
   "metadata": {},
   "outputs": [
    {
     "name": "stderr",
     "output_type": "stream",
     "text": [
      "C:\\Users\\Administrator\\anaconda3\\lib\\site-packages\\seaborn\\_decorators.py:36: FutureWarning: Pass the following variable as a keyword arg: x. From version 0.12, the only valid positional argument will be `data`, and passing other arguments without an explicit keyword will result in an error or misinterpretation.\n",
      "  warnings.warn(\n"
     ]
    },
    {
     "data": {
      "image/png": "[encoded data removed]",
      "text/plain": [
       "<Figure size 432x288 with 1 Axes>"
      ]
     },
     "metadata": {
      "needs_background": "light"
     },
     "output_type": "display_data"
    }
   ],
   "source": [
    "sns.countplot(data['Satisfaction'])\n",
    "plt.title(\"Drug Satisfaction rated by users\")\n",
    "plt.show()"
   ]
  },
  {
   "cell_type": "code",
   "execution_count": 18,
   "metadata": {},
   "outputs": [
    {
     "name": "stderr",
     "output_type": "stream",
     "text": [
      "C:\\Users\\Administrator\\anaconda3\\lib\\site-packages\\seaborn\\_decorators.py:36: FutureWarning: Pass the following variable as a keyword arg: x. From version 0.12, the only valid positional argument will be `data`, and passing other arguments without an explicit keyword will result in an error or misinterpretation.\n",
      "  warnings.warn(\n"
     ]
    },
    {
     "data": {
      "image/png": "[encoded data removed]",
      "text/plain": [
       "<Figure size 432x288 with 1 Axes>"
      ]
     },
     "metadata": {
      "needs_background": "light"
     },
     "output_type": "display_data"
    }
   ],
   "source": [
    "sns.countplot(data['Age'])\n",
    "plt.title(\"age distribution\")\n",
    "plt.show()"
   ]
  },
  {
   "cell_type": "code",
   "execution_count": 20,
   "metadata": {},
   "outputs": [
    {
     "data": {
      "image/png": "[encoded data removed]",
      "text/plain": [
       "<Figure size 1440x504 with 1 Axes>"
      ]
     },
     "metadata": {
      "needs_background": "light"
     },
     "output_type": "display_data"
    }
   ],
   "source": [
    "plt.figure(figsize = (20,7))\n",
    "\n",
    "data['Condition'].value_counts().head(20).plot(kind='bar')\n",
    "\n",
    "plt.show()"
   ]
  },
  {
   "cell_type": "markdown",
   "metadata": {},
   "source": [
    "sns.scatterplot(data=df[1000],x='Condition', y='Drug', hue='Effectiveness')\n"
   ]
  },
  {
   "cell_type": "markdown",
   "metadata": {},
   "source": [
    "# Encoding\n"
   ]
  },
  {
   "cell_type": "code",
   "execution_count": 21,
   "metadata": {},
   "outputs": [
    {
     "name": "stdout",
     "output_type": "stream",
     "text": [
      "Drug\n",
      "cymbalta                                                  4648\n",
      "lisinopril                                                4269\n",
      "lisinopril solution                                       4269\n",
      "lexapro                                                   4134\n",
      "hydrocodone-acetaminophen                                 3944\n",
      "                                                          ... \n",
      "rixubis vial                                                 1\n",
      "glutarade junior 10 gram-410 kcal/100 gram oral powder       1\n",
      "scandishake                                                  1\n",
      "bromi-lotion lotion                                          1\n",
      "minerin lotion                                               1\n",
      "Name: Drug, Length: 7093, dtype: int64\n",
      "Satisfaction\n",
      "5     111550\n",
      "1     100901\n",
      "4      63158\n",
      "3      51852\n",
      "2      35342\n",
      "6          2\n",
      "10         1\n",
      "Name: Satisfaction, dtype: int64\n",
      "Effectiveness\n",
      "5     130388\n",
      "4      81821\n",
      "3      60406\n",
      "1      59387\n",
      "2      30801\n",
      "6          2\n",
      "10         1\n",
      "Name: Effectiveness, dtype: int64\n",
      "Sex\n",
      "Female    238226\n",
      "Male       98043\n",
      "Name: Sex, dtype: int64\n",
      "Sides\n",
      "Nausea ,  vomiting ,  constipation ,  lightheadedness ,  dizziness , or drowsiness may occur.                                                                                                                                                                                                      15563\n",
      "Nausea ,  vomiting ,  headache ,  bloating ,  breast  tenderness, swelling of the  ankles /feet (fluid retention), or  weight  change may occur.                                                                                                                                                   12116\n",
      "Dizziness ,  lightheadedness , tiredness, or  headache  may occur as your body adjusts to the  medication . Dry  cough  may also occur.                                                                                                                                                             9162\n",
      "Drowsiness,  dizziness , loss of coordination, tiredness, blurred/ double vision , unusual  eye  movements, or shaking (tremor) may occur.                                                                                                                                                          7790\n",
      "Nausea ,  vomiting ,  stomach  upset,  diarrhea ,  weakness , or a  metallic taste  in the  mouth  may occur.                                                                                                                                                                                       5372\n",
      "                                                                                                                                                                                                                                                                                                   ...  \n",
      "Cough , chest discomfort, or  headache  may occur.                                                                                                                                                                                                                                                     1\n",
      "Constipation ,  nausea ,  headache ,  diarrhea ,  vomiting ,  stomach  upset, gas,  dizziness , drowsiness,  trouble sleeping , tremor, or redness/swelling at the injection site may occur.                                                                                                           1\n",
      "Dizziness ,  diarrhea ,  nausea / vomiting ,  stomach pain , dry/ itchy skin ,  acne , and  dry mouth  may occur.                                                                                                                                                                                      1\n",
      "Skin  redness, peeling, oiliness, or dryness may occur.                                                                                                                                                                                                                                                1\n",
      "Drowsiness,  dizziness ,  lightheadedness , tiredness,  blurred vision , decreased sexual ability/interest,  nausea ,  constipation , and  dry mouth  may occur as your body adjusts to the  medication . If any of these effects persist or worsen, tell your doctor or  pharmacist  promptly.        1\n",
      "Name: Sides, Length: 1650, dtype: int64\n",
      "UsefulCount\n",
      "0      71608\n",
      "1      46240\n",
      "2      34701\n",
      "3      27307\n",
      "4      22862\n",
      "       ...  \n",
      "125        1\n",
      "122        1\n",
      "116        1\n",
      "95         1\n",
      "255        1\n",
      "Name: UsefulCount, Length: 148, dtype: int64\n"
     ]
    }
   ],
   "source": [
    "col=['Drug','Satisfaction','Effectiveness','Sex','Sides','UsefulCount']\n",
    "for i in col :\n",
    "    print(i)\n",
    "    print(data[i].value_counts())"
   ]
  },
  {
   "cell_type": "code",
   "execution_count": 22,
   "metadata": {},
   "outputs": [
    {
     "data": {
      "text/plain": [
       "{'whiskers': [<matplotlib.lines.Line2D at 0xefb99e8>,\n",
       "  <matplotlib.lines.Line2D at 0xefb9ef8>],\n",
       " 'caps': [<matplotlib.lines.Line2D at 0xefb9490>,\n",
       "  <matplotlib.lines.Line2D at 0xefb9298>],\n",
       " 'boxes': [<matplotlib.lines.Line2D at 0xefb9580>],\n",
       " 'medians': [<matplotlib.lines.Line2D at 0xefb97c0>],\n",
       " 'fliers': [<matplotlib.lines.Line2D at 0xefb9988>],\n",
       " 'means': []}"
      ]
     },
     "execution_count": 22,
     "metadata": {},
     "output_type": "execute_result"
    },
    {
     "data": {
      "image/png": "[encoded data removed]",
      "text/plain": [
       "<Figure size 432x288 with 1 Axes>"
      ]
     },
     "metadata": {
      "needs_background": "light"
     },
     "output_type": "display_data"
    }
   ],
   "source": [
    "\n",
    "\n",
    "plt.boxplot(data['UsefulCount'] )\n"
   ]
  },
  {
   "cell_type": "code",
   "execution_count": 23,
   "metadata": {},
   "outputs": [],
   "source": [
    "Q1 = np.percentile(data['UsefulCount'], 25, interpolation = 'midpoint')  \n",
    "Q2 = np.percentile(data['UsefulCount'], 50, interpolation = 'midpoint')  \n",
    "Q3 = np.percentile(data['UsefulCount'], 75, interpolation = 'midpoint')\n",
    "IQR = Q3 - Q1\n",
    "low_lim = Q1 - 1.5 * IQR \n",
    "up_lim = Q3 + 1.5 * IQR"
   ]
  },
  {
   "cell_type": "code",
   "execution_count": 24,
   "metadata": {},
   "outputs": [],
   "source": [
    "ind2 = data['UsefulCount']>up_lim\n",
    "\n",
    "data.drop((data.loc[ind2].index), inplace=True)"
   ]
  },
  {
   "cell_type": "code",
   "execution_count": 25,
   "metadata": {},
   "outputs": [
    {
     "data": {
      "text/plain": [
       "{'whiskers': [<matplotlib.lines.Line2D at 0xe5682f8>,\n",
       "  <matplotlib.lines.Line2D at 0xe5681a8>],\n",
       " 'caps': [<matplotlib.lines.Line2D at 0xe5684f0>,\n",
       "  <matplotlib.lines.Line2D at 0xe568b68>],\n",
       " 'boxes': [<matplotlib.lines.Line2D at 0xe568fb8>],\n",
       " 'medians': [<matplotlib.lines.Line2D at 0xee709a0>],\n",
       " 'fliers': [<matplotlib.lines.Line2D at 0xee709b8>],\n",
       " 'means': []}"
      ]
     },
     "execution_count": 25,
     "metadata": {},
     "output_type": "execute_result"
    },
    {
     "data": {
      "image/png": "[encoded data removed]",
      "text/plain": [
       "<Figure size 432x288 with 1 Axes>"
      ]
     },
     "metadata": {
      "needs_background": "light"
     },
     "output_type": "display_data"
    }
   ],
   "source": [
    "plt.boxplot(data['UsefulCount'] )\n"
   ]
  },
  {
   "cell_type": "markdown",
   "metadata": {},
   "source": [
    "### fequency encoding"
   ]
  },
  {
   "cell_type": "markdown",
   "metadata": {},
   "source": [
    "col=['Drug','Sides','Condition']\n",
    "for i in col :\n",
    "    df[i]=pd.factorize(df[i])[0]\n",
    "\n"
   ]
  },
  {
   "cell_type": "code",
   "execution_count": 26,
   "metadata": {},
   "outputs": [],
   "source": [
    "col=['Drug','Sides','Condition']\n",
    "for i in col :\n",
    "    fq = df.groupby(i).size()/len(df)\n",
    "    df.loc[:, \"{}_freq_encode\".format(i)] = df[i].map(fq) \n",
    "\n"
   ]
  },
  {
   "cell_type": "code",
   "execution_count": 27,
   "metadata": {},
   "outputs": [],
   "source": [
    "df = df.drop(['Drug','Sides','Condition'], axis = 1) "
   ]
  },
  {
   "cell_type": "code",
   "execution_count": 28,
   "metadata": {},
   "outputs": [],
   "source": [
    "col2=[ 'Age','Sex']\n",
    "\n",
    "from sklearn.preprocessing import LabelEncoder\n",
    "for i in col2 :\n",
    "    le = LabelEncoder()\n",
    "    df[i] = le.fit_transform(df[i])"
   ]
  },
  {
   "cell_type": "code",
   "execution_count": 29,
   "metadata": {},
   "outputs": [
    {
     "data": {
      "text/html": [
       "<div>\n",
       "<style scoped>\n",
       "    .dataframe tbody tr th:only-of-type {\n",
       "        vertical-align: middle;\n",
       "    }\n",
       "\n",
       "    .dataframe tbody tr th {\n",
       "        vertical-align: top;\n",
       "    }\n",
       "\n",
       "    .dataframe thead th {\n",
       "        text-align: right;\n",
       "    }\n",
       "</style>\n",
       "<table border=\"1\" class=\"dataframe\">\n",
       "  <thead>\n",
       "    <tr style=\"text-align: right;\">\n",
       "      <th></th>\n",
       "      <th>Age</th>\n",
       "      <th>Date</th>\n",
       "      <th>DrugId</th>\n",
       "      <th>EaseofUse</th>\n",
       "      <th>Effectiveness</th>\n",
       "      <th>Reviews</th>\n",
       "      <th>Satisfaction</th>\n",
       "      <th>Sex</th>\n",
       "      <th>UsefulCount</th>\n",
       "      <th>Drug_freq_encode</th>\n",
       "      <th>Sides_freq_encode</th>\n",
       "      <th>Condition_freq_encode</th>\n",
       "    </tr>\n",
       "  </thead>\n",
       "  <tbody>\n",
       "    <tr>\n",
       "      <th>0</th>\n",
       "      <td>10</td>\n",
       "      <td>9/21/2014</td>\n",
       "      <td>146724</td>\n",
       "      <td>5</td>\n",
       "      <td>5</td>\n",
       "      <td>I'm a retired physician and of all the meds I ...</td>\n",
       "      <td>5</td>\n",
       "      <td>1</td>\n",
       "      <td>0</td>\n",
       "      <td>0.000193</td>\n",
       "      <td>0.000468</td>\n",
       "      <td>0.001392</td>\n",
       "    </tr>\n",
       "    <tr>\n",
       "      <th>1</th>\n",
       "      <td>3</td>\n",
       "      <td>1/13/2011</td>\n",
       "      <td>146724</td>\n",
       "      <td>5</td>\n",
       "      <td>5</td>\n",
       "      <td>cleared me right up even with my throat hurtin...</td>\n",
       "      <td>5</td>\n",
       "      <td>0</td>\n",
       "      <td>1</td>\n",
       "      <td>0.000193</td>\n",
       "      <td>0.000468</td>\n",
       "      <td>0.002174</td>\n",
       "    </tr>\n",
       "    <tr>\n",
       "      <th>6</th>\n",
       "      <td>3</td>\n",
       "      <td>6/15/2017</td>\n",
       "      <td>163180</td>\n",
       "      <td>5</td>\n",
       "      <td>5</td>\n",
       "      <td>Haven't gotten pregnant so it does it's job. I...</td>\n",
       "      <td>2</td>\n",
       "      <td>0</td>\n",
       "      <td>0</td>\n",
       "      <td>0.000007</td>\n",
       "      <td>0.038008</td>\n",
       "      <td>0.037869</td>\n",
       "    </tr>\n",
       "    <tr>\n",
       "      <th>7</th>\n",
       "      <td>6</td>\n",
       "      <td>1/30/2017</td>\n",
       "      <td>163180</td>\n",
       "      <td>5</td>\n",
       "      <td>5</td>\n",
       "      <td>I have take this for 5 years age 45-50 to prev...</td>\n",
       "      <td>5</td>\n",
       "      <td>0</td>\n",
       "      <td>0</td>\n",
       "      <td>0.000007</td>\n",
       "      <td>0.038008</td>\n",
       "      <td>0.003759</td>\n",
       "    </tr>\n",
       "    <tr>\n",
       "      <th>9</th>\n",
       "      <td>7</td>\n",
       "      <td>10/29/2012</td>\n",
       "      <td>9800</td>\n",
       "      <td>4</td>\n",
       "      <td>2</td>\n",
       "      <td>The 12 hour spray only works for me for 6 hours.</td>\n",
       "      <td>2</td>\n",
       "      <td>1</td>\n",
       "      <td>0</td>\n",
       "      <td>0.000096</td>\n",
       "      <td>0.000403</td>\n",
       "      <td>0.001392</td>\n",
       "    </tr>\n",
       "  </tbody>\n",
       "</table>\n",
       "</div>"
      ],
      "text/plain": [
       "   Age        Date  DrugId  EaseofUse  Effectiveness  \\\n",
       "0   10   9/21/2014  146724          5              5   \n",
       "1    3   1/13/2011  146724          5              5   \n",
       "6    3   6/15/2017  163180          5              5   \n",
       "7    6   1/30/2017  163180          5              5   \n",
       "9    7  10/29/2012    9800          4              2   \n",
       "\n",
       "                                             Reviews  Satisfaction  Sex  \\\n",
       "0  I'm a retired physician and of all the meds I ...             5    1   \n",
       "1  cleared me right up even with my throat hurtin...             5    0   \n",
       "6  Haven't gotten pregnant so it does it's job. I...             2    0   \n",
       "7  I have take this for 5 years age 45-50 to prev...             5    0   \n",
       "9   The 12 hour spray only works for me for 6 hours.             2    1   \n",
       "\n",
       "   UsefulCount  Drug_freq_encode  Sides_freq_encode  Condition_freq_encode  \n",
       "0            0          0.000193           0.000468               0.001392  \n",
       "1            1          0.000193           0.000468               0.002174  \n",
       "6            0          0.000007           0.038008               0.037869  \n",
       "7            0          0.000007           0.038008               0.003759  \n",
       "9            0          0.000096           0.000403               0.001392  "
      ]
     },
     "execution_count": 29,
     "metadata": {},
     "output_type": "execute_result"
    }
   ],
   "source": [
    "df.head()"
   ]
  },
  {
   "cell_type": "markdown",
   "metadata": {},
   "source": [
    "## Feature Engineering"
   ]
  },
  {
   "cell_type": "code",
   "execution_count": 30,
   "metadata": {},
   "outputs": [],
   "source": [
    "#Clustering the drugs based on side effects and condition "
   ]
  },
  {
   "cell_type": "code",
   "execution_count": 31,
   "metadata": {},
   "outputs": [],
   "source": [
    "X= df.loc[:,['Effectiveness','Drug_freq_encode','Sides_freq_encode','Condition_freq_encode','Satisfaction']]"
   ]
  },
  {
   "cell_type": "code",
   "execution_count": 32,
   "metadata": {},
   "outputs": [],
   "source": [
    "from sklearn.preprocessing import StandardScaler\n",
    "\n",
    "standardisation = StandardScaler()\n",
    "X= standardisation.fit_transform(X)"
   ]
  },
  {
   "cell_type": "code",
   "execution_count": 33,
   "metadata": {},
   "outputs": [],
   "source": [
    "from sklearn.decomposition import PCA\n",
    "pca = PCA()\n",
    "pca_data = pca.fit_transform(X)\n",
    "x=pca_data"
   ]
  },
  {
   "cell_type": "code",
   "execution_count": 34,
   "metadata": {},
   "outputs": [
    {
     "name": "stdout",
     "output_type": "stream",
     "text": [
      "1400635.0000002494\n",
      "1007725.8702562106\n",
      "770773.9143681098\n",
      "623018.938480467\n",
      "503865.6731891861\n",
      "445145.2065787478\n",
      "393284.63836396433\n",
      "343921.61114460253\n",
      "318821.5184328963\n",
      "296260.19822379533\n",
      "278632.0577097588\n"
     ]
    },
    {
     "data": {
      "image/png": "[encoded data removed]",
      "text/plain": [
       "<Figure size 432x288 with 1 Axes>"
      ]
     },
     "metadata": {
      "needs_background": "light"
     },
     "output_type": "display_data"
    }
   ],
   "source": [
    "from sklearn.cluster import KMeans\n",
    "wcss=[]\n",
    "\n",
    "for i in range (1,12):\n",
    "    kmeans=KMeans(n_clusters=i,init='k-means++',random_state=50)\n",
    "    kmeans.fit(x)\n",
    "    wcss.append(kmeans.inertia_)\n",
    "    print(kmeans.inertia_)\n",
    "plt.plot(range(1,12),wcss)\n",
    "plt.title('The elbow method')\n",
    "plt.xlabel('Number of clusters')\n",
    "plt.ylabel('wcss')\n",
    "plt.show()"
   ]
  },
  {
   "cell_type": "code",
   "execution_count": 35,
   "metadata": {},
   "outputs": [
    {
     "name": "stdout",
     "output_type": "stream",
     "text": [
      "[2 2 1 ... 0 2 2]\n"
     ]
    }
   ],
   "source": [
    "kmeans=KMeans(n_clusters=4,init='k-means++',random_state=42)\n",
    "y_kmeans=kmeans.fit_predict(x)\n",
    "print(y_kmeans)"
   ]
  },
  {
   "cell_type": "code",
   "execution_count": 36,
   "metadata": {},
   "outputs": [
    {
     "data": {
      "image/png": "[encoded data removed]",
      "text/plain": [
       "<Figure size 1080x504 with 1 Axes>"
      ]
     },
     "metadata": {
      "needs_background": "light"
     },
     "output_type": "display_data"
    }
   ],
   "source": [
    "plt.figure(figsize=(15,7))\n",
    "plt.scatter(x[y_kmeans == 0, 0], x[y_kmeans == 0,1],s=5,c='red',label='cluster 1')\n",
    "plt.scatter(x[y_kmeans == 1, 0], x[y_kmeans == 1,1],s=5,c='blue',label='cluster 2')\n",
    "plt.scatter(x[y_kmeans == 2, 0], x[y_kmeans == 2,1],s=5,c='green',label='cluster 3')\n",
    "plt.scatter(x[y_kmeans == 3, 0], x[y_kmeans == 3,1],s=10,c='yellow',label='cluster 4')\n",
    "\n",
    "plt.title('Clusters of Drugs')\n",
    "plt.legend()\n",
    "plt.show()\n"
   ]
  },
  {
   "cell_type": "code",
   "execution_count": 37,
   "metadata": {},
   "outputs": [],
   "source": [
    "df[\"Sideeffect\"]=y_kmeans"
   ]
  },
  {
   "cell_type": "code",
   "execution_count": 38,
   "metadata": {},
   "outputs": [
    {
     "data": {
      "text/html": [
       "<div>\n",
       "<style scoped>\n",
       "    .dataframe tbody tr th:only-of-type {\n",
       "        vertical-align: middle;\n",
       "    }\n",
       "\n",
       "    .dataframe tbody tr th {\n",
       "        vertical-align: top;\n",
       "    }\n",
       "\n",
       "    .dataframe thead th {\n",
       "        text-align: right;\n",
       "    }\n",
       "</style>\n",
       "<table border=\"1\" class=\"dataframe\">\n",
       "  <thead>\n",
       "    <tr style=\"text-align: right;\">\n",
       "      <th></th>\n",
       "      <th>Age</th>\n",
       "      <th>Date</th>\n",
       "      <th>DrugId</th>\n",
       "      <th>EaseofUse</th>\n",
       "      <th>Effectiveness</th>\n",
       "      <th>Reviews</th>\n",
       "      <th>Satisfaction</th>\n",
       "      <th>Sex</th>\n",
       "      <th>UsefulCount</th>\n",
       "      <th>Drug_freq_encode</th>\n",
       "      <th>Sides_freq_encode</th>\n",
       "      <th>Condition_freq_encode</th>\n",
       "      <th>Sideeffect</th>\n",
       "    </tr>\n",
       "  </thead>\n",
       "  <tbody>\n",
       "    <tr>\n",
       "      <th>0</th>\n",
       "      <td>10</td>\n",
       "      <td>9/21/2014</td>\n",
       "      <td>146724</td>\n",
       "      <td>5</td>\n",
       "      <td>5</td>\n",
       "      <td>I'm a retired physician and of all the meds I ...</td>\n",
       "      <td>5</td>\n",
       "      <td>1</td>\n",
       "      <td>0</td>\n",
       "      <td>0.000193</td>\n",
       "      <td>0.000468</td>\n",
       "      <td>0.001392</td>\n",
       "      <td>2</td>\n",
       "    </tr>\n",
       "    <tr>\n",
       "      <th>1</th>\n",
       "      <td>3</td>\n",
       "      <td>1/13/2011</td>\n",
       "      <td>146724</td>\n",
       "      <td>5</td>\n",
       "      <td>5</td>\n",
       "      <td>cleared me right up even with my throat hurtin...</td>\n",
       "      <td>5</td>\n",
       "      <td>0</td>\n",
       "      <td>1</td>\n",
       "      <td>0.000193</td>\n",
       "      <td>0.000468</td>\n",
       "      <td>0.002174</td>\n",
       "      <td>2</td>\n",
       "    </tr>\n",
       "    <tr>\n",
       "      <th>6</th>\n",
       "      <td>3</td>\n",
       "      <td>6/15/2017</td>\n",
       "      <td>163180</td>\n",
       "      <td>5</td>\n",
       "      <td>5</td>\n",
       "      <td>Haven't gotten pregnant so it does it's job. I...</td>\n",
       "      <td>2</td>\n",
       "      <td>0</td>\n",
       "      <td>0</td>\n",
       "      <td>0.000007</td>\n",
       "      <td>0.038008</td>\n",
       "      <td>0.037869</td>\n",
       "      <td>1</td>\n",
       "    </tr>\n",
       "  </tbody>\n",
       "</table>\n",
       "</div>"
      ],
      "text/plain": [
       "   Age       Date  DrugId  EaseofUse  Effectiveness  \\\n",
       "0   10  9/21/2014  146724          5              5   \n",
       "1    3  1/13/2011  146724          5              5   \n",
       "6    3  6/15/2017  163180          5              5   \n",
       "\n",
       "                                             Reviews  Satisfaction  Sex  \\\n",
       "0  I'm a retired physician and of all the meds I ...             5    1   \n",
       "1  cleared me right up even with my throat hurtin...             5    0   \n",
       "6  Haven't gotten pregnant so it does it's job. I...             2    0   \n",
       "\n",
       "   UsefulCount  Drug_freq_encode  Sides_freq_encode  Condition_freq_encode  \\\n",
       "0            0          0.000193           0.000468               0.001392   \n",
       "1            1          0.000193           0.000468               0.002174   \n",
       "6            0          0.000007           0.038008               0.037869   \n",
       "\n",
       "   Sideeffect  \n",
       "0           2  \n",
       "1           2  \n",
       "6           1  "
      ]
     },
     "execution_count": 38,
     "metadata": {},
     "output_type": "execute_result"
    }
   ],
   "source": [
    "df.head(3)"
   ]
  },
  {
   "cell_type": "markdown",
   "metadata": {},
   "source": [
    "### splitting the dataset \n"
   ]
  },
  {
   "cell_type": "code",
   "execution_count": 39,
   "metadata": {},
   "outputs": [],
   "source": [
    "X = df.drop(['Sideeffect','Reviews','Date','DrugId'], axis=1)\n",
    "\n",
    "y=df[\"Sideeffect\"]"
   ]
  },
  {
   "cell_type": "code",
   "execution_count": 40,
   "metadata": {},
   "outputs": [
    {
     "data": {
      "text/plain": [
       "(280127, 9)"
      ]
     },
     "execution_count": 40,
     "metadata": {},
     "output_type": "execute_result"
    }
   ],
   "source": [
    "X.shape"
   ]
  },
  {
   "cell_type": "code",
   "execution_count": 41,
   "metadata": {},
   "outputs": [
    {
     "data": {
      "text/plain": [
       "(280127,)"
      ]
     },
     "execution_count": 41,
     "metadata": {},
     "output_type": "execute_result"
    }
   ],
   "source": [
    "y.shape"
   ]
  },
  {
   "cell_type": "code",
   "execution_count": 42,
   "metadata": {},
   "outputs": [
    {
     "data": {
      "text/plain": [
       "pandas.core.series.Series"
      ]
     },
     "execution_count": 42,
     "metadata": {},
     "output_type": "execute_result"
    }
   ],
   "source": [
    "type(y)"
   ]
  },
  {
   "cell_type": "markdown",
   "metadata": {},
   "source": [
    "## Building Models"
   ]
  },
  {
   "cell_type": "code",
   "execution_count": 43,
   "metadata": {},
   "outputs": [],
   "source": [
    "from sklearn.model_selection import train_test_split\n",
    "X_train,X_test,y_train,y_test=train_test_split(X,y,test_size=0.3,random_state=42)"
   ]
  },
  {
   "cell_type": "code",
   "execution_count": 55,
   "metadata": {},
   "outputs": [],
   "source": [
    "from sklearn.metrics import classification_report,confusion_matrix,accuracy_score"
   ]
  },
  {
   "cell_type": "markdown",
   "metadata": {},
   "source": [
    "## Random forest "
   ]
  },
  {
   "cell_type": "code",
   "execution_count": 80,
   "metadata": {},
   "outputs": [],
   "source": [
    "from sklearn.ensemble import RandomForestClassifier\n",
    "rc = RandomForestClassifier(max_depth=10,n_estimators=7)\n",
    "rc.fit(X_train, y_train)\n",
    "y_pred = rc.predict(X_test)"
   ]
  },
  {
   "cell_type": "code",
   "execution_count": 81,
   "metadata": {},
   "outputs": [
    {
     "name": "stdout",
     "output_type": "stream",
     "text": [
      "              precision    recall  f1-score   support\n",
      "\n",
      "           0       0.99      1.00      0.99     25451\n",
      "           1       0.99      0.99      0.99     17537\n",
      "           2       1.00      1.00      1.00     29330\n",
      "           3       1.00      0.99      0.99     11721\n",
      "\n",
      "    accuracy                           0.99     84039\n",
      "   macro avg       0.99      0.99      0.99     84039\n",
      "weighted avg       0.99      0.99      0.99     84039\n",
      "\n"
     ]
    }
   ],
   "source": [
    "print(classification_report(y_test, y_pred))"
   ]
  },
  {
   "cell_type": "code",
   "execution_count": 54,
   "metadata": {},
   "outputs": [
    {
     "data": {
      "text/plain": [
       "array([[25444,    10,     0,     1],\n",
       "       [    7, 17517,     5,     5],\n",
       "       [    0,     2, 29324,     0],\n",
       "       [    0,     8,     1, 11715]], dtype=int64)"
      ]
     },
     "execution_count": 54,
     "metadata": {},
     "output_type": "execute_result"
    }
   ],
   "source": [
    "confusion_matrix(y_pred,y_test)"
   ]
  },
  {
   "cell_type": "markdown",
   "metadata": {},
   "source": [
    "### Logistic Regression"
   ]
  },
  {
   "cell_type": "code",
   "execution_count": 48,
   "metadata": {},
   "outputs": [
    {
     "name": "stderr",
     "output_type": "stream",
     "text": [
      "C:\\Users\\Administrator\\anaconda3\\lib\\site-packages\\sklearn\\linear_model\\_logistic.py:762: ConvergenceWarning: lbfgs failed to converge (status=1):\n",
      "STOP: TOTAL NO. of ITERATIONS REACHED LIMIT.\n",
      "\n",
      "Increase the number of iterations (max_iter) or scale the data as shown in:\n",
      "    https://scikit-learn.org/stable/modules/preprocessing.html\n",
      "Please also refer to the documentation for alternative solver options:\n",
      "    https://scikit-learn.org/stable/modules/linear_model.html#logistic-regression\n",
      "  n_iter_i = _check_optimize_result(\n"
     ]
    }
   ],
   "source": [
    "from sklearn.linear_model import LogisticRegression\n",
    "logit_model = LogisticRegression()\n",
    "logit_model.fit(X_train,y_train)\n",
    "y_pred = logit_model.predict(X_test)"
   ]
  },
  {
   "cell_type": "code",
   "execution_count": 49,
   "metadata": {},
   "outputs": [
    {
     "name": "stdout",
     "output_type": "stream",
     "text": [
      "              precision    recall  f1-score   support\n",
      "\n",
      "           0       0.79      0.89      0.84     25451\n",
      "           1       0.40      0.29      0.33     17537\n",
      "           2       0.71      0.82      0.76     29330\n",
      "           3       0.83      0.63      0.71     11721\n",
      "\n",
      "    accuracy                           0.70     84039\n",
      "   macro avg       0.68      0.66      0.66     84039\n",
      "weighted avg       0.69      0.70      0.69     84039\n",
      "\n"
     ]
    }
   ],
   "source": [
    "print(classification_report(y_test, y_pred))"
   ]
  },
  {
   "cell_type": "code",
   "execution_count": 50,
   "metadata": {},
   "outputs": [
    {
     "data": {
      "text/plain": [
       "array([[22575,  4327,   521,  1129],\n",
       "       [ 2246,  5022,  4575,   652],\n",
       "       [   99,  7291, 24124,  2571],\n",
       "       [  531,   897,   110,  7369]], dtype=int64)"
      ]
     },
     "execution_count": 50,
     "metadata": {},
     "output_type": "execute_result"
    }
   ],
   "source": [
    "confusion_matrix(y_pred,y_test)"
   ]
  },
  {
   "cell_type": "markdown",
   "metadata": {},
   "source": [
    "### SGD classifier"
   ]
  },
  {
   "cell_type": "code",
   "execution_count": 57,
   "metadata": {},
   "outputs": [
    {
     "data": {
      "image/png": "[encoded data removed]",
      "text/plain": [
       "<Figure size 432x288 with 1 Axes>"
      ]
     },
     "metadata": {
      "needs_background": "light"
     },
     "output_type": "display_data"
    }
   ],
   "source": [
    "import warnings\n",
    "warnings.filterwarnings(\"ignore\")\n",
    "\n",
    "\n",
    "Intercept=[]\n",
    "ACC=[]\n",
    "\n",
    "from sklearn.linear_model import SGDClassifier\n",
    "\n",
    "iterations=[i for i in range(1,150,2)]\n",
    "\n",
    "for i in iterations:\n",
    "    \n",
    "    sgdr=SGDClassifier(max_iter=i,eta0=0.01)\n",
    "    sgdr.fit(X_train, y_train)\n",
    "    y_pred=sgdr.predict(X_test)\n",
    "    \n",
    "    \n",
    "    ints=sgdr.intercept_\n",
    "    Intercept.append(ints)\n",
    "    acc = accuracy_score(y_test,y_pred)\n",
    "    ACC.append(acc)\n",
    "    \n",
    "    \n",
    "    \n",
    "plt.plot(iterations, ACC, label=\"accuracy\",marker = '.') \n",
    "\n",
    "plt.legend()\n",
    "plt.xlabel(\"Iterations\")\n",
    "plt.ylabel(\"Accuracy\")\n",
    "plt.title(\"Iterations vs Accuracy\")\n",
    "plt.show()"
   ]
  },
  {
   "cell_type": "code",
   "execution_count": 61,
   "metadata": {},
   "outputs": [
    {
     "name": "stdout",
     "output_type": "stream",
     "text": [
      "\n",
      "\n",
      "------------For iteration =  1 -------------\n",
      "\n",
      "---accuracy--- \n",
      " 0.5774937826485322\n",
      "\n",
      "\n",
      "------------For iteration =  40 -------------\n",
      "\n",
      "---accuracy--- \n",
      " 0.8294839300800819\n",
      "\n",
      "\n",
      "------------For iteration =  100 -------------\n",
      "\n",
      "---accuracy--- \n",
      " 0.8588988445840622\n",
      "\n",
      "\n",
      "------------For iteration =  200 -------------\n",
      "\n",
      "---accuracy--- \n",
      " 0.8540915527314699\n",
      "\n",
      "\n",
      "------------For iteration =  500 -------------\n",
      "\n",
      "---accuracy--- \n",
      " 0.8338152524423185\n",
      "\n",
      "\n",
      "------------For iteration =  1000 -------------\n",
      "\n",
      "---accuracy--- \n",
      " 0.8407168100524757\n"
     ]
    }
   ],
   "source": [
    "iteration=[1,40,100,200,500,1000]\n",
    "for i in iteration:\n",
    "    \n",
    "    \n",
    "    sgdr1=SGDClassifier(max_iter=i,eta0=0.01)\n",
    "    sgdr1.fit(X_train, y_train)\n",
    "    y_pred=sgdr1.predict(X_test)\n",
    "    \n",
    "    \n",
    "    print(\"\\n\\n------------For iteration = \",i,\"-------------\")\n",
    "    print(\"\\n---accuracy--- \\n\",accuracy_score(y_test,y_pred))\n",
    "    \n"
   ]
  },
  {
   "cell_type": "code",
   "execution_count": 62,
   "metadata": {},
   "outputs": [],
   "source": [
    "\n",
    "sgdr12=SGDClassifier(max_iter=100,eta0=0.01)\n",
    "sgdr12.fit(X_train, y_train)\n",
    "y_pred=sgdr12.predict(X_test)\n"
   ]
  },
  {
   "cell_type": "code",
   "execution_count": 63,
   "metadata": {},
   "outputs": [
    {
     "name": "stdout",
     "output_type": "stream",
     "text": [
      "              precision    recall  f1-score   support\n",
      "\n",
      "           0       0.86      0.99      0.92     25451\n",
      "           1       0.87      0.32      0.47     17537\n",
      "           2       0.80      1.00      0.89     29330\n",
      "           3       0.95      0.94      0.95     11721\n",
      "\n",
      "    accuracy                           0.85     84039\n",
      "   macro avg       0.87      0.81      0.81     84039\n",
      "weighted avg       0.85      0.85      0.82     84039\n",
      "\n"
     ]
    }
   ],
   "source": [
    "print(classification_report(y_test, y_pred))"
   ]
  },
  {
   "cell_type": "code",
   "execution_count": 64,
   "metadata": {},
   "outputs": [
    {
     "data": {
      "text/plain": [
       "array([[25188,  3947,     0,    56],\n",
       "       [  203,  5681,   105,   542],\n",
       "       [   30,  7346, 29216,    65],\n",
       "       [   30,   563,     9, 11058]], dtype=int64)"
      ]
     },
     "execution_count": 64,
     "metadata": {},
     "output_type": "execute_result"
    }
   ],
   "source": [
    "confusion_matrix(y_pred,y_test)"
   ]
  },
  {
   "cell_type": "markdown",
   "metadata": {},
   "source": [
    "### KNN"
   ]
  },
  {
   "cell_type": "code",
   "execution_count": 65,
   "metadata": {},
   "outputs": [],
   "source": [
    "from sklearn.metrics import confusion_matrix,accuracy_score,precision_score,recall_score,f1_score"
   ]
  },
  {
   "cell_type": "code",
   "execution_count": 66,
   "metadata": {},
   "outputs": [],
   "source": [
    "from sklearn.neighbors import KNeighborsClassifier\n",
    "metric_k = []\n",
    "neighbors = np.arange(3,15)\n",
    "\n",
    "for k in neighbors:\n",
    "    classifier = KNeighborsClassifier(n_neighbors=k, metric='minkowski')\n",
    "    classifier.fit(X_train,y_train)\n",
    "    y_pred = classifier.predict(X_test)\n",
    "    acc = accuracy_score(y_test,y_pred)\n",
    "    metric_k.append(acc)"
   ]
  },
  {
   "cell_type": "code",
   "execution_count": 67,
   "metadata": {},
   "outputs": [
    {
     "data": {
      "image/png": "[encoded data removed]",
      "text/plain": [
       "<Figure size 432x288 with 1 Axes>"
      ]
     },
     "metadata": {
      "needs_background": "light"
     },
     "output_type": "display_data"
    }
   ],
   "source": [
    "plt.plot(neighbors,metric_k,'o-')\n",
    "plt.xlabel('k Value')\n",
    "plt.ylabel('accuracy')\n",
    "plt.grid()"
   ]
  },
  {
   "cell_type": "code",
   "execution_count": 68,
   "metadata": {},
   "outputs": [],
   "source": [
    "classifier = KNeighborsClassifier(n_neighbors=3, metric='minkowski')\n",
    "classifier.fit(X_train,y_train)\n",
    "y_pred = classifier.predict(X_test)"
   ]
  },
  {
   "cell_type": "code",
   "execution_count": 69,
   "metadata": {},
   "outputs": [
    {
     "name": "stdout",
     "output_type": "stream",
     "text": [
      "              precision    recall  f1-score   support\n",
      "\n",
      "           0       0.85      0.95      0.90     25451\n",
      "           1       0.79      0.69      0.73     17537\n",
      "           2       0.90      0.95      0.92     29330\n",
      "           3       0.92      0.76      0.84     11721\n",
      "\n",
      "    accuracy                           0.87     84039\n",
      "   macro avg       0.87      0.84      0.85     84039\n",
      "weighted avg       0.87      0.87      0.86     84039\n",
      "\n"
     ]
    }
   ],
   "source": [
    "print(classification_report(y_test, y_pred))"
   ]
  },
  {
   "cell_type": "code",
   "execution_count": 70,
   "metadata": {},
   "outputs": [
    {
     "data": {
      "text/plain": [
       "array([[24090,  2697,   126,  1285],\n",
       "       [ 1111, 12016,  1299,   874],\n",
       "       [   53,  2390, 27804,   617],\n",
       "       [  197,   434,   101,  8945]], dtype=int64)"
      ]
     },
     "execution_count": 70,
     "metadata": {},
     "output_type": "execute_result"
    }
   ],
   "source": [
    "confusion_matrix(y_pred,y_test)"
   ]
  },
  {
   "cell_type": "markdown",
   "metadata": {},
   "source": [
    "### SVM"
   ]
  },
  {
   "cell_type": "code",
   "execution_count": null,
   "metadata": {},
   "outputs": [],
   "source": [
    "#svm takes infinite time for running "
   ]
  },
  {
   "cell_type": "raw",
   "metadata": {},
   "source": [
    "from sklearn.svm import SVC\n",
    "sm = SVC(kernel=\"linear\")\n",
    "sm.fit(X_train, y_train)\n",
    "y_pred = sm.predict(X_test)"
   ]
  },
  {
   "cell_type": "markdown",
   "metadata": {},
   "source": [
    "### Decision Tree model"
   ]
  },
  {
   "cell_type": "code",
   "execution_count": 71,
   "metadata": {},
   "outputs": [],
   "source": [
    "from sklearn.tree import DecisionTreeClassifier\n",
    "dt = DecisionTreeClassifier()\n",
    "dt.fit(X_train, y_train)\n",
    "y_pred = dt.predict(X_test)"
   ]
  },
  {
   "cell_type": "code",
   "execution_count": 72,
   "metadata": {},
   "outputs": [
    {
     "name": "stdout",
     "output_type": "stream",
     "text": [
      "              precision    recall  f1-score   support\n",
      "\n",
      "           0       1.00      1.00      1.00     25451\n",
      "           1       1.00      1.00      1.00     17537\n",
      "           2       1.00      1.00      1.00     29330\n",
      "           3       1.00      1.00      1.00     11721\n",
      "\n",
      "    accuracy                           1.00     84039\n",
      "   macro avg       1.00      1.00      1.00     84039\n",
      "weighted avg       1.00      1.00      1.00     84039\n",
      "\n"
     ]
    }
   ],
   "source": [
    "print(classification_report(y_test, y_pred))"
   ]
  },
  {
   "cell_type": "code",
   "execution_count": 73,
   "metadata": {},
   "outputs": [
    {
     "data": {
      "text/plain": [
       "array([[25444,    18,     0,     0],\n",
       "       [    7, 17512,     1,     3],\n",
       "       [    0,     2, 29328,     0],\n",
       "       [    0,     5,     1, 11718]], dtype=int64)"
      ]
     },
     "execution_count": 73,
     "metadata": {},
     "output_type": "execute_result"
    }
   ],
   "source": [
    "confusion_matrix(y_pred,y_test)"
   ]
  },
  {
   "cell_type": "markdown",
   "metadata": {},
   "source": [
    "### Gaussian Naïve Bayes Classifier"
   ]
  },
  {
   "cell_type": "code",
   "execution_count": 74,
   "metadata": {},
   "outputs": [],
   "source": [
    "from sklearn.naive_bayes import GaussianNB\n",
    "nb=GaussianNB()\n",
    "nb.fit(X_train, y_train)\n",
    "y_pred = nb.predict(X_test)"
   ]
  },
  {
   "cell_type": "code",
   "execution_count": 75,
   "metadata": {},
   "outputs": [
    {
     "name": "stdout",
     "output_type": "stream",
     "text": [
      "              precision    recall  f1-score   support\n",
      "\n",
      "           0       0.96      0.96      0.96     25451\n",
      "           1       0.86      0.98      0.91     17537\n",
      "           2       0.99      0.94      0.97     29330\n",
      "           3       0.99      0.92      0.95     11721\n",
      "\n",
      "    accuracy                           0.95     84039\n",
      "   macro avg       0.95      0.95      0.95     84039\n",
      "weighted avg       0.96      0.95      0.95     84039\n",
      "\n"
     ]
    }
   ],
   "source": [
    "print(classification_report(y_test, y_pred))"
   ]
  },
  {
   "cell_type": "code",
   "execution_count": 76,
   "metadata": {},
   "outputs": [
    {
     "data": {
      "text/plain": [
       "array([[24354,   227,   498,   300],\n",
       "       [ 1068, 17153,  1146,   614],\n",
       "       [   29,    74, 27686,    43],\n",
       "       [    0,    83,     0, 10764]], dtype=int64)"
      ]
     },
     "execution_count": 76,
     "metadata": {},
     "output_type": "execute_result"
    }
   ],
   "source": [
    "confusion_matrix(y_pred,y_test)"
   ]
  },
  {
   "cell_type": "code",
   "execution_count": null,
   "metadata": {},
   "outputs": [],
   "source": []
  },
  {
   "cell_type": "code",
   "execution_count": null,
   "metadata": {},
   "outputs": [],
   "source": []
  }
 ],
 "metadata": {
  "kernelspec": {
   "display_name": "Python 3",
   "language": "python",
   "name": "python3"
  },
  "language_info": {
   "codemirror_mode": {
    "name": "ipython",
    "version": 3
   },
   "file_extension": ".py",
   "mimetype": "text/x-python",
   "name": "python",
   "nbconvert_exporter": "python",
   "pygments_lexer": "ipython3",
   "version": "3.8.5"
  }
 },
 "nbformat": 4,
 "nbformat_minor": 4
}
